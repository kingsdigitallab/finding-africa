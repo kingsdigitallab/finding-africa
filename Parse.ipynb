{
 "cells": [
  {
   "cell_type": "code",
   "execution_count": 87,
   "metadata": {},
   "outputs": [],
   "source": [
    "import ConfigParser\n",
    "import email\n",
    "import imaplib\n",
    "import logging\n",
    "import logging.config\n",
    "import os\n",
    "import pandas as pd\n",
    "import re\n",
    "import yaml\n",
    "\n",
    "from datetime import datetime\n",
    "from lxml import etree\n",
    "\n",
    "imaplib.IMAP4.debug = imaplib.IMAP4_SSL.debug = 1"
   ]
  },
  {
   "cell_type": "code",
   "execution_count": 88,
   "metadata": {},
   "outputs": [],
   "source": [
    "def configure_logging(default_path='logging.yml', default_level=logging.INFO):\n",
    "    path = default_path\n",
    "\n",
    "    if os.path.exists(path):\n",
    "        with open(path, 'rt') as f:\n",
    "            config = yaml.safe_load(f.read())\n",
    "            logging.config.dictConfig(config)\n",
    "    else:\n",
    "        logging.basicConfig(level=default_level)"
   ]
  },
  {
   "cell_type": "code",
   "execution_count": 89,
   "metadata": {},
   "outputs": [
    {
     "name": "stdout",
     "output_type": "stream",
     "text": [
      "2018-07-20 14:11:20,379 - root - DEBUG - TEST\n"
     ]
    }
   ],
   "source": [
    "# the current logging configuration is logging to the console, change to log to a file with rotation before deploying\n",
    "configure_logging()\n",
    "logger = logging.getLogger()\n",
    "logger.debug('TEST')"
   ]
  },
  {
   "cell_type": "code",
   "execution_count": 90,
   "metadata": {},
   "outputs": [
    {
     "data": {
      "text/plain": [
       "['config.ini']"
      ]
     },
     "execution_count": 90,
     "metadata": {},
     "output_type": "execute_result"
    }
   ],
   "source": [
    "config = ConfigParser.SafeConfigParser()\n",
    "config.read('config.ini')"
   ]
  },
  {
   "cell_type": "code",
   "execution_count": 91,
   "metadata": {},
   "outputs": [],
   "source": [
    "def prepare(config):\n",
    "    if not os.path.exists(config.get('DEFAULT', 'sandbox')):\n",
    "        os.makedirs(config.get('DEFAULT', 'sandbox'))\n",
    "        \n",
    "    if not os.path.exists(config.get('DEFAULT', 'output')):        \n",
    "        os.makedirs(config.get('DEFAULT', 'output'))"
   ]
  },
  {
   "cell_type": "code",
   "execution_count": 92,
   "metadata": {},
   "outputs": [],
   "source": [
    "prepare(config)"
   ]
  },
  {
   "cell_type": "markdown",
   "metadata": {},
   "source": [
    "# Workflow\n",
    "## Download Attachments\n",
    "1. Excel file arrives as email attachment to a specific address @archives-africa.org (tbd).\n",
    "2. Checks to make sure it has arrived from a list of known addresses (needs to be configurable using a command-line text editor).\n",
    "1. Excel file saved somewhere on the Archives Africa server.\n",
    "1. File renamed using a sequential numbering system (to be discussed) and a code representing the sender (again needs to be configurable). This new filename also used for XML data files (below)."
   ]
  },
  {
   "cell_type": "code",
   "execution_count": 93,
   "metadata": {},
   "outputs": [],
   "source": [
    "def is_email_address_known(config, address):\n",
    "    return config.has_section(address)"
   ]
  },
  {
   "cell_type": "code",
   "execution_count": 94,
   "metadata": {},
   "outputs": [
    {
     "name": "stdout",
     "output_type": "stream",
     "text": [
      "False\n",
      "True\n"
     ]
    }
   ],
   "source": [
    "print(is_email_address_known(config, 'test@test.me'))\n",
    "print(is_email_address_known(config, 'email@archive1.org'))"
   ]
  },
  {
   "cell_type": "code",
   "execution_count": 95,
   "metadata": {},
   "outputs": [],
   "source": [
    "def save_attachment(config, address, attachment):\n",
    "    sandbox = config.get('DEFAULT', 'sandbox')\n",
    "    \n",
    "    code = config.get(address, 'code')\n",
    "\n",
    "    seq = 1\n",
    "    if config.has_option(address, 'sequence'):\n",
    "        seq = config.getint(address, 'sequence') + 1\n",
    "    \n",
    "    filename = os.path.join(sandbox, '{}_{}.xlsx'.format(code, seq))\n",
    "    \n",
    "    with open(filename, 'w') as f:\n",
    "        f.write(attachment)\n",
    "        f.close()\n",
    "\n",
    "    return seq, filename"
   ]
  },
  {
   "cell_type": "code",
   "execution_count": 96,
   "metadata": {},
   "outputs": [],
   "source": [
    "def update_sequence(config, filename, address, seq):\n",
    "    config.set(address, 'sequence', str(seq))\n",
    "    \n",
    "    with open(filename, 'wb') as f:\n",
    "        config.write(f)"
   ]
  },
  {
   "cell_type": "code",
   "execution_count": 97,
   "metadata": {},
   "outputs": [
    {
     "name": "stdout",
     "output_type": "stream",
     "text": [
      "(6, 'sandbox/dir/A1_6.xlsx')\n"
     ]
    }
   ],
   "source": [
    "address = 'email@archive1.org'\n",
    "\n",
    "with open('draft_01.xlsx', 'r') as f:\n",
    "    attachment = f.read()\n",
    "\n",
    "seq, filename = save_attachment(config, address, attachment)\n",
    "\n",
    "print(seq, filename)"
   ]
  },
  {
   "cell_type": "code",
   "execution_count": 98,
   "metadata": {},
   "outputs": [],
   "source": [
    "update_sequence(config, 'config.ini', address, seq)"
   ]
  },
  {
   "cell_type": "code",
   "execution_count": 99,
   "metadata": {},
   "outputs": [],
   "source": [
    "# this code has not been tested, no mailbox available at the time of writing\n",
    "def get_data_from_mailbox(config):\n",
    "    logger = logging.getLogger()\n",
    "    \n",
    "    username = config.get('mailbox', 'username')\n",
    "    password = config.get('mailbox', 'password')\n",
    "\n",
    "    \n",
    "    logger.debug('Connecting via ssl IMAP...')\n",
    "    mailbox = imaplib.IMAP4_SSL('host', 993)\n",
    "    logger.debug('Conected!!')\n",
    "    \n",
    "    logger.debug('Trying to login via ssl')\n",
    "    mailbox.login(username, password)\n",
    "    logger.debug('logged in!!')\n",
    "    \n",
    "    logger.debug('Selecting INBOX')\n",
    "    mailbox.select()\n",
    "    logger.debug('Getting unread messages...')\n",
    "    typ, data = con.search(None, '(UNSEEN)')\n",
    "\n",
    "    counter = 0\n",
    "    \n",
    "    for num in data[0].split():\n",
    "        typ, data = con.fetch(num, '(RFC822)')\n",
    "\n",
    "        text = data[0][1]\n",
    "        msg = email.message_from_string(text)\n",
    "        \n",
    "        sender = msg['From']\n",
    "        \n",
    "        # skips unknown addresses\n",
    "        if not is_email_address_known(config, sender):\n",
    "            continue\n",
    "        \n",
    "        for part in msg.walk():\n",
    "            if part.get_content_maintype() == 'multipart':\n",
    "                continue\n",
    "\n",
    "            if part.get('Content-Disposition') is None:\n",
    "                continue\n",
    "\n",
    "            data = part.get_payload(decode=True)\n",
    "            if not data:\n",
    "                logger.debug('{}: No attachments found...'.format(sender))\n",
    "                continue\n",
    "            \n",
    "            seq, filename = save_attachment(config, sender, data)\n",
    "            logger.info('{}: Downloaded attachment {}'.format(sender, filename))\n",
    "            \n",
    "            update_sequence(config, 'config.ini', address, seq)\n",
    "            \n",
    "            counter += 1\n",
    "        \n",
    "        logger.info('Downloaded {} attachement(s)'.format(counter))\n",
    "\n",
    "    con.close()\n",
    "    con.logout()"
   ]
  },
  {
   "cell_type": "markdown",
   "metadata": {},
   "source": [
    "## Process Downloaded Attachments\n",
    "5. Language of Excel file to be determined (either English or French) – can embed a hidden field in the Excel file if helpful. ALL MESSAGES TO THE SENDER OF FILE NEED TO BE IN THIS LANGUAGE. Ideally messages should be configurable (using a command-line text editor).\n",
    "5. Character set converted to UTF-8 if not already. All files past this point should be UTF-8.\n",
    "5. Make sure that all required* fields are present.\n",
    "\n",
    "5. If all required COLLECTION fields are present and correct, then:\n",
    "    1. Content extracted from the Excel file into separate XML files – one XML file for each worksheet. Exact XML schemas to be defined – but as simple as possible. One schema for COLLECTION data. Another simple schema for TERMS.\n",
    "    1. COLLECTION data cleaned: All data wrapped with <p> tags, including line-breaks between paragraphs in multi-line fields.\n",
    "    1. Dates converted to ISO-8601 format (YYYY-MM-DD, YYYY-MM or YYYY) where possible in several specific fields (tbd).\n",
    "    1. We may need to see if it’s possible to extract styling information like bold and italic text – and convert this to HTML tags `<strong>` and `<em>`. If any `<strong>` or `<em>` tags present, wrap the entire field data with `<![CDATA[…]]>`\n",
    "    1. COLLECTION data saved as simple XML file (schema to be discussed).\n",
    "    1. TERMS data (worksheets 2 – 5): Also parsed, cleaned and saved to simple XML files.\n",
    "\n",
    "5. If all files saved successfully (no errors), then:\n",
    "    1. ‘File processed’ report sent (in EN) to Archives Africa with filenames/locations, timestamps, originating email address etc.\n",
    "    1. Also, simple ‘thank you for sending your data to Archives Africa – we will let you know when it has been added to the site’ (tbd) message (in EN or FR) to sender of file.\n",
    "    1. If any failures – missing fields, failures during cleaning, then email message sent back to originating address (in EN or FR) with details of problems found (missing fields etc). This mail also sent (separately) to an address @archives-africa.org (tbd).\n"
   ]
  },
  {
   "cell_type": "code",
   "execution_count": 101,
   "metadata": {},
   "outputs": [],
   "source": [
    "def clean_collection(filename):\n",
    "    collection = pd.read_excel(filename, 'collection')\n",
    "    collection.drop('ARCHIVES AFRICA: COLLECTION DATA', axis=1).drop(0)\n",
    "    \n",
    "    collection = collection.transpose()\n",
    "    new_header = collection.iloc[0].str.strip()\n",
    "    collection = collection[1:]\n",
    "    collection.columns = new_header\n",
    "    \n",
    "    collection.drop(['* Required'], axis=1, inplace=True)\n",
    "\n",
    "    return collection"
   ]
  },
  {
   "cell_type": "code",
   "execution_count": 102,
   "metadata": {},
   "outputs": [
    {
     "data": {
      "text/html": [
       "<div>\n",
       "<style scoped>\n",
       "    .dataframe tbody tr th:only-of-type {\n",
       "        vertical-align: middle;\n",
       "    }\n",
       "\n",
       "    .dataframe tbody tr th {\n",
       "        vertical-align: top;\n",
       "    }\n",
       "\n",
       "    .dataframe thead th {\n",
       "        text-align: right;\n",
       "    }\n",
       "</style>\n",
       "<table border=\"1\" class=\"dataframe\">\n",
       "  <thead>\n",
       "    <tr style=\"text-align: right;\">\n",
       "      <th>ARCHIVES AFRICA: COLLECTION DATA</th>\n",
       "      <th>Institution identifier*</th>\n",
       "      <th>Repository*</th>\n",
       "      <th>Collection identifier*</th>\n",
       "      <th>Title*</th>\n",
       "      <th>Collection creation date*</th>\n",
       "      <th>Record creation date</th>\n",
       "      <th>Record revision date</th>\n",
       "      <th>Record deletion date</th>\n",
       "      <th>Level of description*</th>\n",
       "      <th>Extent and medium*</th>\n",
       "      <th>...</th>\n",
       "      <th>Scope and content*</th>\n",
       "      <th>Accruals</th>\n",
       "      <th>System of arrangement*</th>\n",
       "      <th>Conditions governing access*</th>\n",
       "      <th>Conditions governing reproduction</th>\n",
       "      <th>Language of material*</th>\n",
       "      <th>Finding aids</th>\n",
       "      <th>Related units of description</th>\n",
       "      <th>Notes (PUBLIC):\n",
       "Please note: These notes WILL be publicaly viewable.</th>\n",
       "      <th>Archivist's notes (PRIVATE):\n",
       "Please include name of archivist. These notes will NOT be publicaly viewable.</th>\n",
       "    </tr>\n",
       "  </thead>\n",
       "  <tbody>\n",
       "    <tr>\n",
       "      <th>Unnamed: 1</th>\n",
       "      <td>&lt;institution_id&gt;</td>\n",
       "      <td>&lt;repository_name&gt;</td>\n",
       "      <td>&lt;collection_id&gt;</td>\n",
       "      <td>&lt;title&gt;</td>\n",
       "      <td>&lt;date_creation_collection&gt;</td>\n",
       "      <td>&lt;date_creation_record&gt;</td>\n",
       "      <td>&lt;date_revision_record&gt;</td>\n",
       "      <td>&lt;date_deletion_record&gt;</td>\n",
       "      <td>&lt;level_of_description&gt;</td>\n",
       "      <td>&lt;extent_medium&gt;</td>\n",
       "      <td>...</td>\n",
       "      <td>&lt;scope_content&gt;</td>\n",
       "      <td>&lt;accruals&gt;</td>\n",
       "      <td>&lt;arrangement&gt;</td>\n",
       "      <td>&lt;conditions_access&gt;</td>\n",
       "      <td>&lt;conditions_reproduction&gt;</td>\n",
       "      <td>&lt;language_material&gt;</td>\n",
       "      <td>&lt;finding_aids&gt;</td>\n",
       "      <td>&lt;related_descriptions&gt;</td>\n",
       "      <td>&lt;notes_public&gt;</td>\n",
       "      <td>&lt;notes_private&gt;</td>\n",
       "    </tr>\n",
       "    <tr>\n",
       "      <th>Unnamed: 2</th>\n",
       "      <td>Example identifier</td>\n",
       "      <td>Example repository</td>\n",
       "      <td>Example collection ID</td>\n",
       "      <td>Example title</td>\n",
       "      <td>Example collection creation date</td>\n",
       "      <td>2018-03-19 00:00:00</td>\n",
       "      <td>2018-03-20 00:00:00</td>\n",
       "      <td>2018-03-21 00:00:00</td>\n",
       "      <td>Example level of description</td>\n",
       "      <td>Example extent</td>\n",
       "      <td>...</td>\n",
       "      <td>Example scope and content. Multi-line data - m...</td>\n",
       "      <td>Example accruals. Multi-line data - multi-para...</td>\n",
       "      <td>Example system of arrangement</td>\n",
       "      <td>Example conditions governing access</td>\n",
       "      <td>Example conditions governing reproduction</td>\n",
       "      <td>Example language of materials</td>\n",
       "      <td>Example finding aids</td>\n",
       "      <td>Example related units of description</td>\n",
       "      <td>Example public notes. Multi-line data - multi-...</td>\n",
       "      <td>Example private notes. Multi-line data - multi...</td>\n",
       "    </tr>\n",
       "    <tr>\n",
       "      <th>Unnamed: 3</th>\n",
       "      <td>&lt;/institution_id&gt;</td>\n",
       "      <td>&lt;/repository_name&gt;</td>\n",
       "      <td>&lt;/collection_id&gt;</td>\n",
       "      <td>&lt;/title&gt;</td>\n",
       "      <td>&lt;/date_creation_collection&gt;</td>\n",
       "      <td>&lt;/date_creation_record&gt;</td>\n",
       "      <td>&lt;/date_revision_record&gt;</td>\n",
       "      <td>&lt;/date_deletion_record&gt;</td>\n",
       "      <td>&lt;/level_of_description&gt;</td>\n",
       "      <td>&lt;/extent_medium&gt;</td>\n",
       "      <td>...</td>\n",
       "      <td>&lt;/scope_content&gt;</td>\n",
       "      <td>&lt;/accruals&gt;</td>\n",
       "      <td>&lt;/arrangement&gt;</td>\n",
       "      <td>&lt;/conditions_access&gt;</td>\n",
       "      <td>&lt;/conditions_reproduction&gt;</td>\n",
       "      <td>&lt;/language_material&gt;</td>\n",
       "      <td>&lt;/finding_aids&gt;</td>\n",
       "      <td>&lt;/related_descriptions&gt;</td>\n",
       "      <td>&lt;/notes_public&gt;</td>\n",
       "      <td>&lt;/notes_private&gt;</td>\n",
       "    </tr>\n",
       "    <tr>\n",
       "      <th>Examples:</th>\n",
       "      <td>To be supplied</td>\n",
       "      <td>To be supplied</td>\n",
       "      <td>To be supplied</td>\n",
       "      <td>To be supplied</td>\n",
       "      <td>To be supplied</td>\n",
       "      <td>To be supplied</td>\n",
       "      <td>To be supplied</td>\n",
       "      <td>To be supplied</td>\n",
       "      <td>To be supplied</td>\n",
       "      <td>To be supplied</td>\n",
       "      <td>...</td>\n",
       "      <td>To be supplied</td>\n",
       "      <td>To be supplied</td>\n",
       "      <td>To be supplied</td>\n",
       "      <td>To be supplied</td>\n",
       "      <td>To be supplied</td>\n",
       "      <td>To be supplied</td>\n",
       "      <td>To be supplied</td>\n",
       "      <td>To be supplied</td>\n",
       "      <td>To be supplied</td>\n",
       "      <td>To be supplied</td>\n",
       "    </tr>\n",
       "    <tr>\n",
       "      <th>For more information:</th>\n",
       "      <td>https://www.accesstomemory.org/en/docs/2.4/use...</td>\n",
       "      <td>https://www.ica.org/en/isdiah-international-st...</td>\n",
       "      <td>https://www.accesstomemory.org/en/docs/2.4/use...</td>\n",
       "      <td>https://www.accesstomemory.org/en/docs/2.4/use...</td>\n",
       "      <td>https://www.accesstomemory.org/en/docs/2.4/use...</td>\n",
       "      <td>NaN</td>\n",
       "      <td>NaN</td>\n",
       "      <td>NaN</td>\n",
       "      <td>https://www.accesstomemory.org/en/docs/2.4/use...</td>\n",
       "      <td>https://www.accesstomemory.org/en/docs/2.4/use...</td>\n",
       "      <td>...</td>\n",
       "      <td>https://www.accesstomemory.org/en/docs/2.4/use...</td>\n",
       "      <td>https://www.accesstomemory.org/en/docs/2.4/use...</td>\n",
       "      <td>https://www.accesstomemory.org/en/docs/2.4/use...</td>\n",
       "      <td>https://www.accesstomemory.org/en/docs/2.4/use...</td>\n",
       "      <td>https://www.accesstomemory.org/en/docs/2.4/use...</td>\n",
       "      <td>https://www.accesstomemory.org/en/docs/2.4/use...</td>\n",
       "      <td>https://www.accesstomemory.org/en/docs/2.4/use...</td>\n",
       "      <td>https://www.accesstomemory.org/en/docs/2.4/use...</td>\n",
       "      <td>https://www.accesstomemory.org/en/docs/2.4/use...</td>\n",
       "      <td>NaN</td>\n",
       "    </tr>\n",
       "  </tbody>\n",
       "</table>\n",
       "<p>5 rows × 23 columns</p>\n",
       "</div>"
      ],
      "text/plain": [
       "ARCHIVES AFRICA: COLLECTION DATA                            Institution identifier*  \\\n",
       "Unnamed: 1                                                         <institution_id>   \n",
       "Unnamed: 2                                                       Example identifier   \n",
       "Unnamed: 3                                                        </institution_id>   \n",
       "Examples:                                                            To be supplied   \n",
       "For more information:             https://www.accesstomemory.org/en/docs/2.4/use...   \n",
       "\n",
       "ARCHIVES AFRICA: COLLECTION DATA                                        Repository*  \\\n",
       "Unnamed: 1                                                        <repository_name>   \n",
       "Unnamed: 2                                                       Example repository   \n",
       "Unnamed: 3                                                       </repository_name>   \n",
       "Examples:                                                            To be supplied   \n",
       "For more information:             https://www.ica.org/en/isdiah-international-st...   \n",
       "\n",
       "ARCHIVES AFRICA: COLLECTION DATA                             Collection identifier*  \\\n",
       "Unnamed: 1                                                          <collection_id>   \n",
       "Unnamed: 2                                                    Example collection ID   \n",
       "Unnamed: 3                                                         </collection_id>   \n",
       "Examples:                                                            To be supplied   \n",
       "For more information:             https://www.accesstomemory.org/en/docs/2.4/use...   \n",
       "\n",
       "ARCHIVES AFRICA: COLLECTION DATA                                             Title*  \\\n",
       "Unnamed: 1                                                                  <title>   \n",
       "Unnamed: 2                                                            Example title   \n",
       "Unnamed: 3                                                                 </title>   \n",
       "Examples:                                                            To be supplied   \n",
       "For more information:             https://www.accesstomemory.org/en/docs/2.4/use...   \n",
       "\n",
       "ARCHIVES AFRICA: COLLECTION DATA                          Collection creation date*  \\\n",
       "Unnamed: 1                                               <date_creation_collection>   \n",
       "Unnamed: 2                                         Example collection creation date   \n",
       "Unnamed: 3                                              </date_creation_collection>   \n",
       "Examples:                                                            To be supplied   \n",
       "For more information:             https://www.accesstomemory.org/en/docs/2.4/use...   \n",
       "\n",
       "ARCHIVES AFRICA: COLLECTION DATA     Record creation date  \\\n",
       "Unnamed: 1                         <date_creation_record>   \n",
       "Unnamed: 2                            2018-03-19 00:00:00   \n",
       "Unnamed: 3                        </date_creation_record>   \n",
       "Examples:                                  To be supplied   \n",
       "For more information:                                 NaN   \n",
       "\n",
       "ARCHIVES AFRICA: COLLECTION DATA     Record revision date  \\\n",
       "Unnamed: 1                         <date_revision_record>   \n",
       "Unnamed: 2                            2018-03-20 00:00:00   \n",
       "Unnamed: 3                        </date_revision_record>   \n",
       "Examples:                                  To be supplied   \n",
       "For more information:                                 NaN   \n",
       "\n",
       "ARCHIVES AFRICA: COLLECTION DATA     Record deletion date  \\\n",
       "Unnamed: 1                         <date_deletion_record>   \n",
       "Unnamed: 2                            2018-03-21 00:00:00   \n",
       "Unnamed: 3                        </date_deletion_record>   \n",
       "Examples:                                  To be supplied   \n",
       "For more information:                                 NaN   \n",
       "\n",
       "ARCHIVES AFRICA: COLLECTION DATA                              Level of description*  \\\n",
       "Unnamed: 1                                                   <level_of_description>   \n",
       "Unnamed: 2                                             Example level of description   \n",
       "Unnamed: 3                                                  </level_of_description>   \n",
       "Examples:                                                            To be supplied   \n",
       "For more information:             https://www.accesstomemory.org/en/docs/2.4/use...   \n",
       "\n",
       "ARCHIVES AFRICA: COLLECTION DATA                                 Extent and medium*  \\\n",
       "Unnamed: 1                                                          <extent_medium>   \n",
       "Unnamed: 2                                                           Example extent   \n",
       "Unnamed: 3                                                         </extent_medium>   \n",
       "Examples:                                                            To be supplied   \n",
       "For more information:             https://www.accesstomemory.org/en/docs/2.4/use...   \n",
       "\n",
       "ARCHIVES AFRICA: COLLECTION DATA                                                     ...                                                      \\\n",
       "Unnamed: 1                                                                           ...                                                       \n",
       "Unnamed: 2                                                                           ...                                                       \n",
       "Unnamed: 3                                                                           ...                                                       \n",
       "Examples:                                                                            ...                                                       \n",
       "For more information:                                                                ...                                                       \n",
       "\n",
       "ARCHIVES AFRICA: COLLECTION DATA                                 Scope and content*  \\\n",
       "Unnamed: 1                                                          <scope_content>   \n",
       "Unnamed: 2                        Example scope and content. Multi-line data - m...   \n",
       "Unnamed: 3                                                         </scope_content>   \n",
       "Examples:                                                            To be supplied   \n",
       "For more information:             https://www.accesstomemory.org/en/docs/2.4/use...   \n",
       "\n",
       "ARCHIVES AFRICA: COLLECTION DATA                                           Accruals  \\\n",
       "Unnamed: 1                                                               <accruals>   \n",
       "Unnamed: 2                        Example accruals. Multi-line data - multi-para...   \n",
       "Unnamed: 3                                                              </accruals>   \n",
       "Examples:                                                            To be supplied   \n",
       "For more information:             https://www.accesstomemory.org/en/docs/2.4/use...   \n",
       "\n",
       "ARCHIVES AFRICA: COLLECTION DATA                             System of arrangement*  \\\n",
       "Unnamed: 1                                                            <arrangement>   \n",
       "Unnamed: 2                                            Example system of arrangement   \n",
       "Unnamed: 3                                                           </arrangement>   \n",
       "Examples:                                                            To be supplied   \n",
       "For more information:             https://www.accesstomemory.org/en/docs/2.4/use...   \n",
       "\n",
       "ARCHIVES AFRICA: COLLECTION DATA                       Conditions governing access*  \\\n",
       "Unnamed: 1                                                      <conditions_access>   \n",
       "Unnamed: 2                                      Example conditions governing access   \n",
       "Unnamed: 3                                                     </conditions_access>   \n",
       "Examples:                                                            To be supplied   \n",
       "For more information:             https://www.accesstomemory.org/en/docs/2.4/use...   \n",
       "\n",
       "ARCHIVES AFRICA: COLLECTION DATA                  Conditions governing reproduction  \\\n",
       "Unnamed: 1                                                <conditions_reproduction>   \n",
       "Unnamed: 2                                Example conditions governing reproduction   \n",
       "Unnamed: 3                                               </conditions_reproduction>   \n",
       "Examples:                                                            To be supplied   \n",
       "For more information:             https://www.accesstomemory.org/en/docs/2.4/use...   \n",
       "\n",
       "ARCHIVES AFRICA: COLLECTION DATA                              Language of material*  \\\n",
       "Unnamed: 1                                                      <language_material>   \n",
       "Unnamed: 2                                            Example language of materials   \n",
       "Unnamed: 3                                                     </language_material>   \n",
       "Examples:                                                            To be supplied   \n",
       "For more information:             https://www.accesstomemory.org/en/docs/2.4/use...   \n",
       "\n",
       "ARCHIVES AFRICA: COLLECTION DATA                                       Finding aids  \\\n",
       "Unnamed: 1                                                           <finding_aids>   \n",
       "Unnamed: 2                                                     Example finding aids   \n",
       "Unnamed: 3                                                          </finding_aids>   \n",
       "Examples:                                                            To be supplied   \n",
       "For more information:             https://www.accesstomemory.org/en/docs/2.4/use...   \n",
       "\n",
       "ARCHIVES AFRICA: COLLECTION DATA                       Related units of description  \\\n",
       "Unnamed: 1                                                   <related_descriptions>   \n",
       "Unnamed: 2                                     Example related units of description   \n",
       "Unnamed: 3                                                  </related_descriptions>   \n",
       "Examples:                                                            To be supplied   \n",
       "For more information:             https://www.accesstomemory.org/en/docs/2.4/use...   \n",
       "\n",
       "ARCHIVES AFRICA: COLLECTION DATA Notes (PUBLIC):\\nPlease note: These notes WILL be publicaly viewable.  \\\n",
       "Unnamed: 1                                                           <notes_public>                      \n",
       "Unnamed: 2                        Example public notes. Multi-line data - multi-...                      \n",
       "Unnamed: 3                                                          </notes_public>                      \n",
       "Examples:                                                            To be supplied                      \n",
       "For more information:             https://www.accesstomemory.org/en/docs/2.4/use...                      \n",
       "\n",
       "ARCHIVES AFRICA: COLLECTION DATA Archivist's notes (PRIVATE):\\nPlease include name of archivist. These notes will NOT be publicaly viewable.  \n",
       "Unnamed: 1                                                          <notes_private>                                                           \n",
       "Unnamed: 2                        Example private notes. Multi-line data - multi...                                                           \n",
       "Unnamed: 3                                                         </notes_private>                                                           \n",
       "Examples:                                                            To be supplied                                                           \n",
       "For more information:                                                           NaN                                                           \n",
       "\n",
       "[5 rows x 23 columns]"
      ]
     },
     "execution_count": 102,
     "metadata": {},
     "output_type": "execute_result"
    }
   ],
   "source": [
    "collection = clean_collection(filename)\n",
    "collection.head()"
   ]
  },
  {
   "cell_type": "code",
   "execution_count": 103,
   "metadata": {},
   "outputs": [
    {
     "data": {
      "text/plain": [
       "(u'Example identifier', u'Example repository')"
      ]
     },
     "execution_count": 103,
     "metadata": {},
     "output_type": "execute_result"
    }
   ],
   "source": [
    "collection['Institution identifier*'][1], collection['Repository*'][1]"
   ]
  },
  {
   "cell_type": "code",
   "execution_count": 104,
   "metadata": {},
   "outputs": [],
   "source": [
    "def get_missing_fields(collection):\n",
    "    missing_fields = []\n",
    "\n",
    "    for c in collection.columns:\n",
    "        # required fields\n",
    "        if '*' in c:\n",
    "            data = collection[c][1]\n",
    "            if pd.isna(data) or pd.isnull(data):\n",
    "                missing_fields.append(c)\n",
    "    \n",
    "    return missing_fields"
   ]
  },
  {
   "cell_type": "code",
   "execution_count": 105,
   "metadata": {},
   "outputs": [],
   "source": [
    "missing_fields = get_missing_fields(collection)\n",
    "if missing_fields:\n",
    "    print(missing_fields)"
   ]
  },
  {
   "cell_type": "code",
   "execution_count": 106,
   "metadata": {},
   "outputs": [],
   "source": [
    "def collection_to_xml(collection):\n",
    "    xml = etree.Element('collection')\n",
    "    \n",
    "    for c in collection.columns:\n",
    "        data = collection[c][1]\n",
    "        \n",
    "        if not pd.isna(data) and not pd.isnull(data):\n",
    "            name = collection[c][0]\n",
    "            name = re.sub(r'\\W', '', name)\n",
    "            el = etree.SubElement(xml, name)\n",
    "            \n",
    "            if isinstance(data, str):\n",
    "                paras = data.split('\\n')\n",
    "                \n",
    "                for para in paras:\n",
    "                    para = para.strip()\n",
    "                    if para:\n",
    "                        p = etree.SubElement(el, 'p')\n",
    "                        if '<' in para or '>' in para:\n",
    "                            p.text = etree.CDATA(para)\n",
    "                        else:\n",
    "                            p.text = para\n",
    "            elif isinstance(data, datetime):\n",
    "                data = data.date().isoformat()\n",
    "                el.text = data\n",
    "            else:\n",
    "                el.text = data\n",
    "    \n",
    "    return etree.ElementTree(xml)"
   ]
  },
  {
   "cell_type": "code",
   "execution_count": 107,
   "metadata": {},
   "outputs": [],
   "source": [
    "xml = collection_to_xml(collection)\n",
    "# etree.dump(xml.getroot())"
   ]
  },
  {
   "cell_type": "code",
   "execution_count": 135,
   "metadata": {},
   "outputs": [],
   "source": [
    "def save_xml(xml, name):\n",
    "    logger.debug('save_xml: {}'.format(name))\n",
    "    xml.write(name, encoding='utf-8', method='xml', pretty_print=True)"
   ]
  },
  {
   "cell_type": "code",
   "execution_count": 136,
   "metadata": {},
   "outputs": [
    {
     "name": "stdout",
     "output_type": "stream",
     "text": [
      "2018-07-20 14:20:14,695 - root - DEBUG - save_xml: collection.xml\n"
     ]
    }
   ],
   "source": [
    "save_xml(xml, 'collection.xml')"
   ]
  },
  {
   "cell_type": "code",
   "execution_count": 137,
   "metadata": {},
   "outputs": [],
   "source": [
    "def process_collection(collection, filename):\n",
    "    xml = collection_to_xml(collection)\n",
    "    save_xml(xml, filename)  "
   ]
  },
  {
   "cell_type": "code",
   "execution_count": 138,
   "metadata": {},
   "outputs": [],
   "source": [
    "def terms_to_xml(terms, root):\n",
    "    xml = etree.Element(root)\n",
    "    \n",
    "    for term in terms:\n",
    "        if not pd.isna(term) and not pd.isnull(term):\n",
    "            p = etree.SubElement(xml, 'p')\n",
    "            p.text = term\n",
    "            \n",
    "    return etree.ElementTree(xml)"
   ]
  },
  {
   "cell_type": "code",
   "execution_count": 145,
   "metadata": {},
   "outputs": [],
   "source": [
    "def process_terms(xlsx, path):\n",
    "    excel = pd.ExcelFile(xlsx)\n",
    "    for sn in excel.sheet_names[1:]:\n",
    "        df = pd.read_excel(data, sn)\n",
    "        term_name = df.columns[0]\n",
    "        el_name = term_name.lower().replace(' ', '_')\n",
    "\n",
    "        xml = terms_to_xml(df[term_name], el_name)\n",
    "        \n",
    "        filename = os.path.basename(xlsx).split('.')[0]\n",
    "        save_xml(\n",
    "            xml, os.path.join(path, '{}_{}.xml'.format(filename, el_name)))"
   ]
  },
  {
   "cell_type": "code",
   "execution_count": 148,
   "metadata": {},
   "outputs": [],
   "source": [
    "def process_attachments(config):\n",
    "    logger = logging.getLogger()\n",
    "    in_path = config.get('DEFAULT', 'sandbox')\n",
    "    out_path = config.get('DEFAULT', 'output')\n",
    "    \n",
    "    for root, dirs, files in os.walk(in_path):\n",
    "        for name in files:\n",
    "            filepath = os.path.join(in_path, name)\n",
    "            collection = clean_collection(filepath)\n",
    "\n",
    "            missing_fields = get_missing_fields(collection)\n",
    "            if missing_fields:\n",
    "                logger.warn('{}: has missing fields {}'.format(\n",
    "                    name, missing_fields))\n",
    "                # TODO: generate failure report\n",
    "                continue\n",
    "            \n",
    "            filename = os.path.basename(name).split('.')[0]\n",
    "            process_collection(\n",
    "                collection, os.path.join(out_path, '{}.xml'.format(filename)))\n",
    "            process_terms(filepath, out_path)\n",
    "            \n",
    "            logger.info('{}: processed'.format(name))\n",
    "            \n",
    "            # TODO: generate success reports"
   ]
  },
  {
   "cell_type": "code",
   "execution_count": 149,
   "metadata": {},
   "outputs": [
    {
     "name": "stdout",
     "output_type": "stream",
     "text": [
      "2018-07-20 14:24:07,792 - root - DEBUG - save_xml: output/dir/A1_6.xml\n",
      "2018-07-20 14:24:07,837 - root - DEBUG - save_xml: output/dir/A1_6_subjects.xml\n",
      "2018-07-20 14:24:07,862 - root - DEBUG - save_xml: output/dir/A1_6_places.xml\n",
      "2018-07-20 14:24:07,880 - root - DEBUG - save_xml: output/dir/A1_6_personal_names.xml\n",
      "2018-07-20 14:24:07,903 - root - DEBUG - save_xml: output/dir/A1_6_corporate_names.xml\n",
      "2018-07-20 14:24:07,905 - root - INFO - A1_6.xlsx: processed\n",
      "2018-07-20 14:24:07,967 - root - DEBUG - save_xml: output/dir/A1_3.xml\n",
      "2018-07-20 14:24:08,002 - root - DEBUG - save_xml: output/dir/A1_3_subjects.xml\n",
      "2018-07-20 14:24:08,022 - root - DEBUG - save_xml: output/dir/A1_3_places.xml\n",
      "2018-07-20 14:24:08,041 - root - DEBUG - save_xml: output/dir/A1_3_personal_names.xml\n",
      "2018-07-20 14:24:08,066 - root - DEBUG - save_xml: output/dir/A1_3_corporate_names.xml\n",
      "2018-07-20 14:24:08,069 - root - INFO - A1_3.xlsx: processed\n",
      "2018-07-20 14:24:08,128 - root - DEBUG - save_xml: output/dir/A1_5.xml\n",
      "2018-07-20 14:24:08,172 - root - DEBUG - save_xml: output/dir/A1_5_subjects.xml\n",
      "2018-07-20 14:24:08,192 - root - DEBUG - save_xml: output/dir/A1_5_places.xml\n",
      "2018-07-20 14:24:08,216 - root - DEBUG - save_xml: output/dir/A1_5_personal_names.xml\n",
      "2018-07-20 14:24:08,238 - root - DEBUG - save_xml: output/dir/A1_5_corporate_names.xml\n",
      "2018-07-20 14:24:08,239 - root - INFO - A1_5.xlsx: processed\n",
      "2018-07-20 14:24:08,321 - root - DEBUG - save_xml: output/dir/A1_4.xml\n",
      "2018-07-20 14:24:08,354 - root - DEBUG - save_xml: output/dir/A1_4_subjects.xml\n",
      "2018-07-20 14:24:08,376 - root - DEBUG - save_xml: output/dir/A1_4_places.xml\n",
      "2018-07-20 14:24:08,402 - root - DEBUG - save_xml: output/dir/A1_4_personal_names.xml\n",
      "2018-07-20 14:24:08,420 - root - DEBUG - save_xml: output/dir/A1_4_corporate_names.xml\n",
      "2018-07-20 14:24:08,424 - root - INFO - A1_4.xlsx: processed\n"
     ]
    }
   ],
   "source": [
    "process_attachments(config)"
   ]
  },
  {
   "cell_type": "code",
   "execution_count": null,
   "metadata": {},
   "outputs": [],
   "source": []
  }
 ],
 "metadata": {
  "kernelspec": {
   "display_name": "Python 3",
   "language": "python",
   "name": "python3"
  },
  "language_info": {
   "codemirror_mode": {
    "name": "ipython",
    "version": 2
   },
   "file_extension": ".py",
   "mimetype": "text/x-python",
   "name": "python",
   "nbconvert_exporter": "python",
   "pygments_lexer": "ipython2",
   "version": "2.7.15"
  }
 },
 "nbformat": 4,
 "nbformat_minor": 2
}
